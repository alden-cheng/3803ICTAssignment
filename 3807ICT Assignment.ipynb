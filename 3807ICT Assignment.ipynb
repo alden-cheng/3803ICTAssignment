{
 "cells": [
  {
   "cell_type": "code",
   "execution_count": 83,
   "metadata": {
    "scrolled": true
   },
   "outputs": [],
   "source": [
    "import pandas as pd\n",
    "import numpy as np\n",
    "data = pd.read_csv(\"data.csv\")"
   ]
  },
  {
   "cell_type": "markdown",
   "metadata": {},
   "source": [
    "# Part 1-Data preparation and Preprocessing\n",
    "## (1) Describe the dataset:\n",
    "1. What are the categories/domains of dataset?"
   ]
  },
  {
   "cell_type": "code",
   "execution_count": 84,
   "metadata": {
    "scrolled": true
   },
   "outputs": [
    {
     "name": "stdout",
     "output_type": "stream",
     "text": [
      "Id                                                            37404348\n",
      "Title                                         Casual Stock Replenisher\n",
      "Company                                                    Aldi Stores\n",
      "Date                                          2018-10-07T00:00:00.000Z\n",
      "Location                                                        Sydney\n",
      "Area                                       North West & Hills District\n",
      "Classification                              Retail & Consumer Products\n",
      "SubClassification                                    Retail Assistants\n",
      "Requirement          Our Casual Stock Replenishers pride themselves...\n",
      "FullDescription                                                    NaN\n",
      "LowestSalary                                                         0\n",
      "HighestSalary                                                       30\n",
      "JobType                                                            NaN\n",
      "Name: 0, dtype: object\n",
      "number of data: 318477\n",
      "The type of Id : <class 'int'>\n",
      "The type of Title : <class 'str'>\n",
      "The type of Company : <class 'str'>\n",
      "The type of Date : <class 'str'>\n",
      "The type of Location : <class 'str'>\n",
      "The type of Area : <class 'str'>\n",
      "The type of Classification : <class 'str'>\n",
      "The type of SubClassification : <class 'str'>\n",
      "The type of Requirement : <class 'str'>\n",
      "The type of FullDescription : <class 'float'>\n",
      "The type of LowestSalary : <class 'numpy.int64'>\n",
      "The type of HighestSalary : <class 'numpy.int64'>\n",
      "The type of JobType : <class 'float'>\n"
     ]
    }
   ],
   "source": [
    "print(data.iloc[0])\n",
    "print(\"number of data:\",len(data))\n",
    "for i in range(len(data.iloc[0])):\n",
    "    print(\"The type of\",data.columns[i],\":\",type(data.iloc[0,i]))"
   ]
  },
  {
   "cell_type": "markdown",
   "metadata": {},
   "source": [
    "The number of this dataset is 318477. \n",
    "\n",
    "There are 13 columns in the dataset, and they and their types are:\n",
    "\n",
    "The type of Id : <class 'int'>\n",
    "\n",
    "The type of Title : <class 'str'>\n",
    "\n",
    "The type of Company : <class 'str'>\n",
    "\n",
    "The type of Date : <class 'str'>\n",
    "\n",
    "The type of Location : <class 'str'>\n",
    "\n",
    "The type of Area : <class 'str'>\n",
    "\n",
    "The type of Classification : <class 'str'>\n",
    "\n",
    "The type of SubClassification : <class 'str'>\n",
    "\n",
    "The type of Requirement : <class 'str'>\n",
    "\n",
    "The type of FullDescription : <class 'float'>\n",
    "\n",
    "The type of LowestSalary : <class 'numpy.int64'>\n",
    "\n",
    "The type of HighestSalary : <class 'numpy.int64'>\n",
    "\n",
    "The type of JobType : <class 'float'>\n",
    "\n",
    "The primary dataset that we would like to use is the job market dataset \n",
    "which is provided in CSV format.\n",
    "\n",
    "I will use attributes: Title, Company, Date, Location, Classification, SubClassification, LowestSalary, HighestSalary in dataset: data.\n"
   ]
  },
  {
   "cell_type": "markdown",
   "metadata": {},
   "source": [
    "## (2) Describe the steps you used for data preparation and preprocessing."
   ]
  },
  {
   "cell_type": "markdown",
   "metadata": {},
   "source": [
    "I load the data with pandas.read_csv(), after which the data are restored in \"data\". Preparation and preprocessing I have done is in each part below when it is needed. \n",
    "1. I build another data called new_date to seperate Date into three parts: Year, Month and Day.\n",
    "\n",
    "2. I delete data with null values because they are not easy to deal with. \n",
    "\n",
    "3. I seperate dataset by group in order to be easy to understand."
   ]
  },
  {
   "cell_type": "markdown",
   "metadata": {},
   "source": [
    "## (3) What is your hypothesis (expection) about the analysis outcome?\n",
    "I want to know the features of different features and numbers of different columns to make it easier to find jobs for different people. I will study these data by companies, sectors and locations. "
   ]
  },
  {
   "cell_type": "markdown",
   "metadata": {},
   "source": [
    "# Part 2-Data Analysis and Interpretation\n",
    "## (1) Study the jod metadata. Extract the relevant information to describe the job's attributes."
   ]
  },
  {
   "cell_type": "markdown",
   "metadata": {},
   "source": [
    "The sector is the name of Company. The sub-sector is the title of Company."
   ]
  },
  {
   "cell_type": "code",
   "execution_count": 85,
   "metadata": {},
   "outputs": [
    {
     "name": "stdout",
     "output_type": "stream",
     "text": [
      "ALL jobs shown in title and company:\n",
      "                                                                                                Number\n",
      "Company                                     Title                                                     \n",
      "Department of Education & Training Victoria Classroom Teacher                                      131\n",
      "G8 Education                                Early Childhood Teacher                                100\n",
      "Aldi Stores                                 Retail Assistant                                        90\n",
      "Hays Office Support                         Executive Assistant                                     85\n",
      "UBER                                        Uber Driver Partner                                     81\n",
      "...                                                                                                ...\n",
      "HCA Doctors                                 Private Billing Practice offering a Permanent f...       1\n",
      "                                            Psych Registrar/CMO - Take a break and Earn Loc...       1\n",
      "                                            Psychiatry Registrar (Accredited training posit...       1\n",
      "                                            Psychiatry Registrar - Metro Brisbane                    1\n",
      "Össur Australia Pty Ltd                     Warehouse Assistant                                      1\n",
      "\n",
      "[216677 rows x 1 columns]\n"
     ]
    }
   ],
   "source": [
    "print(\"ALL jobs shown in title and company:\")\n",
    "print(data[[\"Company\",\"Title\",\"Id\"]].groupby([\"Company\",\"Title\"]).count().rename(columns={'Id':\"Number\"}).sort_values(by='Number',ascending=False))"
   ]
  },
  {
   "cell_type": "markdown",
   "metadata": {},
   "source": [
    "The data below is the number of jobs of each company."
   ]
  },
  {
   "cell_type": "code",
   "execution_count": 86,
   "metadata": {},
   "outputs": [
    {
     "name": "stdout",
     "output_type": "stream",
     "text": [
      "                             Number\n",
      "Company                            \n",
      "Jora Local                     9354\n",
      "Hudson                         1668\n",
      "Design & Build                 1547\n",
      "Robert Walters                 1385\n",
      "Paxus                          1325\n",
      "...                             ...\n",
      "Hugh Reilly Real Estate           1\n",
      "Hufcor Pty Ltd                    1\n",
      "Hudsons GM                        1\n",
      "Hudsons Catering                  1\n",
      "Laing and Simmons Narrabeen       1\n",
      "\n",
      "[40628 rows x 1 columns]\n"
     ]
    }
   ],
   "source": [
    "print(data[[\"Company\",\"Id\"]].groupby([\"Company\"]).count().rename(columns={'Id':\"Number\"}).sort_values(by='Number',ascending=False))"
   ]
  },
  {
   "cell_type": "markdown",
   "metadata": {},
   "source": [
    "The location of each job is below:"
   ]
  },
  {
   "cell_type": "code",
   "execution_count": 87,
   "metadata": {},
   "outputs": [
    {
     "name": "stdout",
     "output_type": "stream",
     "text": [
      "                                                  Company  \\\n",
      "0                                             Aldi Stores   \n",
      "1                                             Aldi Stores   \n",
      "2                                     LB Creative Pty Ltd   \n",
      "3                                  Anaconda Group Pty Ltd   \n",
      "4          Commonwealth Bank - Business & Private Banking   \n",
      "...                                                   ...   \n",
      "318472                                            Talenza   \n",
      "318473  Talent – Winner ‘Seek Large Recruitment Agency...   \n",
      "318474                   Retail Career Consulting Pty Ltd   \n",
      "318475                                         Moir Group   \n",
      "318476                                 Austcorp Executive   \n",
      "\n",
      "                                                    Title  \\\n",
      "0                                Casual Stock Replenisher   \n",
      "1                                Casual Stock Replenisher   \n",
      "2       RETAIL SALES SUPERSTARS and STYLISTS Wanted - ...   \n",
      "3                                   Team member - Belrose   \n",
      "4       Business Banking Contact Centre Specialist, Ni...   \n",
      "...                                                   ...   \n",
      "318472                  Program Manager - Trade Reporting   \n",
      "318473            Web Content Writer - June 2019 contract   \n",
      "318474              Brand Director - Global Premium Brand   \n",
      "318475   Head of Financial Planning, Reporting & Strategy   \n",
      "318476                           Head of Operations - EOI   \n",
      "\n",
      "                       Location                         Area  \n",
      "0                        Sydney  North West & Hills District  \n",
      "1         Richmond & Hawkesbury                          NaN  \n",
      "2                      Brisbane          CBD & Inner Suburbs  \n",
      "3       Gosford & Central Coast                          NaN  \n",
      "4                        Sydney        Ryde & Macquarie Park  \n",
      "...                         ...                          ...  \n",
      "318472                      NaN                          NaN  \n",
      "318473                      NaN                          NaN  \n",
      "318474                      NaN                          NaN  \n",
      "318475                      NaN                          NaN  \n",
      "318476                      NaN                          NaN  \n",
      "\n",
      "[318477 rows x 4 columns]\n"
     ]
    }
   ],
   "source": [
    "print(data[['Company','Title','Location','Area']])"
   ]
  },
  {
   "cell_type": "markdown",
   "metadata": {},
   "source": [
    "The data below is the range of salary of each sector and sub sector."
   ]
  },
  {
   "cell_type": "code",
   "execution_count": 88,
   "metadata": {},
   "outputs": [
    {
     "name": "stdout",
     "output_type": "stream",
     "text": [
      "Salary range by company and title:\n",
      "                                                                    LowestSalary  \\\n",
      "Company                Title                                                       \n",
      "17 Ways Pty Ltd        Linux Engineer (RHEL)                               200.0   \n",
      "2XM Recruit            Project Manager ($100mil Education project)         200.0   \n",
      "                       Senior Project Engineer                             200.0   \n",
      "                       Spray Seal Supervisor                               200.0   \n",
      "2XM Technology Pty Ltd Business Analyst - Data                             200.0   \n",
      "...                                                                          ...   \n",
      "yourtown               Placement Consultant Jobactive Caboolture             0.0   \n",
      "                       Placement Consultant Jobactive Salisbury              0.0   \n",
      "                       Receptionist - Part Time                              0.0   \n",
      "                       Risk Specialist                                       0.0   \n",
      "zooi cafe pty ltd      Cafe chef                                             0.0   \n",
      "\n",
      "                                                                    HighestSalary  \n",
      "Company                Title                                                       \n",
      "17 Ways Pty Ltd        Linux Engineer (RHEL)                                999.0  \n",
      "2XM Recruit            Project Manager ($100mil Education project)          999.0  \n",
      "                       Senior Project Engineer                              999.0  \n",
      "                       Spray Seal Supervisor                                999.0  \n",
      "2XM Technology Pty Ltd Business Analyst - Data                              999.0  \n",
      "...                                                                           ...  \n",
      "yourtown               Placement Consultant Jobactive Caboolture             30.0  \n",
      "                       Placement Consultant Jobactive Salisbury              30.0  \n",
      "                       Receptionist - Part Time                              30.0  \n",
      "                       Risk Specialist                                       30.0  \n",
      "zooi cafe pty ltd      Cafe chef                                             30.0  \n",
      "\n",
      "[216677 rows x 2 columns]\n"
     ]
    }
   ],
   "source": [
    "print(\"Salary range by company and title:\")\n",
    "print(data[[\"Company\",\"Title\",\"LowestSalary\"]].groupby([\"Company\",\"Title\"]).mean().join(data[[\"Company\",\"Title\",\"HighestSalary\"]].groupby([\"Company\",\"Title\"]).mean()).sort_values(by=[\"LowestSalary\",\"HighestSalary\"],ascending=False))"
   ]
  },
  {
   "cell_type": "code",
   "execution_count": 89,
   "metadata": {},
   "outputs": [
    {
     "name": "stdout",
     "output_type": "stream",
     "text": [
      "Salary range by company:\n",
      "                            LowestSalary  HighestSalary\n",
      "Company                                                \n",
      "17 Ways Pty Ltd                    200.0          999.0\n",
      "ABBA Group                         200.0          999.0\n",
      "ADANI MINING PTY LTD               200.0          999.0\n",
      "ANC Cranes Pty Ltd                 200.0          999.0\n",
      "ANC Forestry Group Pty Ltd         200.0          999.0\n",
      "...                                  ...            ...\n",
      "wilo beauty                          0.0           30.0\n",
      "wiz electrical                       0.0           30.0\n",
      "xnz pty ltd                          0.0           30.0\n",
      "ymca                                 0.0           30.0\n",
      "zooi cafe pty ltd                    0.0           30.0\n",
      "\n",
      "[40628 rows x 2 columns]\n"
     ]
    }
   ],
   "source": [
    "print(\"Salary range by company:\")\n",
    "print(data[[\"Company\",\"LowestSalary\"]].groupby([\"Company\"]).mean().join(data[[\"Company\",\"HighestSalary\"]].groupby([\"Company\"]).mean()).sort_values(by=[\"LowestSalary\",\"HighestSalary\"],ascending=False))"
   ]
  },
  {
   "cell_type": "markdown",
   "metadata": {},
   "source": [
    "## (2) Study the market by locations"
   ]
  },
  {
   "cell_type": "code",
   "execution_count": 90,
   "metadata": {
    "scrolled": true
   },
   "outputs": [
    {
     "name": "stdout",
     "output_type": "stream",
     "text": [
      "The number of jobs by areas:\n",
      "                                     Number\n",
      "Area                                       \n",
      "CBD & Inner Suburbs                   32170\n",
      "CBD, Inner West & Eastern Suburbs     29059\n",
      "Parramatta & Western Suburbs           8769\n",
      "Bayside & South Eastern Suburbs        6707\n",
      "North Shore & Northern Beaches         6656\n",
      "Northern Suburbs                       6436\n",
      "Eastern Suburbs                        6361\n",
      "CBD, Inner & Western Suburbs           5570\n",
      "Western Suburbs                        4285\n",
      "South West & M5 Corridor               3190\n",
      "Southern Suburbs & Sutherland Shire    2239\n",
      "Southern Suburbs & Logan               2137\n",
      "Ryde & Macquarie Park                  1960\n",
      "North West & Hills District            1905\n",
      "Fremantle & Southern Suburbs           1804\n",
      "Northern Suburbs & Joondalup           1199\n",
      "Western Suburbs & Ipswich              1190\n",
      "Bayside & Eastern Suburbs               657\n",
      "Rockingham & Kwinana                    364\n"
     ]
    }
   ],
   "source": [
    "print(\"The number of jobs by areas:\")\n",
    "print(data[[\"Area\",\"Id\"]].groupby(\"Area\").count().rename(columns={\"Id\":\"Number\"}).sort_values(by='Number',ascending=False))"
   ]
  },
  {
   "cell_type": "markdown",
   "metadata": {},
   "source": [
    "We can know that CBD & Inner Suburbs area has the most number of jobs and Rockingham & Kwinana has the least. The range of number of jobs group by area is between 32170 to 364."
   ]
  },
  {
   "cell_type": "code",
   "execution_count": 91,
   "metadata": {},
   "outputs": [
    {
     "name": "stdout",
     "output_type": "stream",
     "text": [
      "The number of jobs by Locations:\n",
      "                                      Number\n",
      "Location                                    \n",
      "Sydney                                 60765\n",
      "Melbourne                              46690\n",
      "Brisbane                               21466\n",
      "Perth                                  13198\n",
      "Adelaide                                6653\n",
      "ACT                                     6250\n",
      "Newcastle, Maitland & Hunter            3958\n",
      "Gold Coast                              3588\n",
      "South West Coast VIC                    1790\n",
      "Mackay & Coalfields                     1701\n",
      "Port Hedland, Karratha & Pilbara        1667\n",
      "Wollongong, Illawarra & South Coast     1657\n",
      "Sunshine Coast                          1554\n",
      "Cairns & Far North                      1509\n",
      "Northern QLD                            1493\n",
      "Gosford & Central Coast                 1343\n",
      "Toowoomba & Darling Downs               1310\n",
      "Darwin                                  1266\n",
      "Hobart                                  1051\n",
      "Blue Mountains & Central West            942\n",
      "Kalgoorlie, Goldfields & Esperance       870\n",
      "Lismore & Far North Coast                817\n",
      "Bendigo, Goldfields & Macedon Ranges     808\n",
      "Wagga Wagga & Riverina                   802\n",
      "Mornington Peninsula & Bass Coast        739\n",
      "Rockhampton & Capricorn Coast            728\n",
      "Gladstone & Central QLD                  712\n",
      "Dubbo & Central NSW                      642\n",
      "Bunbury & South West                     635\n",
      "Tamworth & North West NSW                610\n",
      "Ballarat & Central Highlands             603\n",
      "Shepparton & Goulburn Valley             601\n",
      "West Gippsland & Latrobe Valley          576\n",
      "Western QLD                              514\n",
      "Yarra Valley & High Country              499\n",
      "Port Macquarie & Mid North Coast         469\n",
      "Southern Highlands & Tablelands          465\n",
      "Coffs Harbour & North Coast              440\n",
      "Albury Area                              416\n",
      "Bundaberg & Wide Bay Burnett             409\n",
      "Launceston & North East                  388\n",
      "Bairnsdale & Gippsland                   378\n",
      "Geraldton, Gascoyne & Midwest            341\n",
      "Mildura & Murray                         307\n",
      "Alice Springs & Central Australia        301\n",
      "Hervey Bay & Fraser Coast                285\n",
      "Broome & Kimberley                       283\n",
      "Devonport & North West                   256\n",
      "Mandurah & Peel                          250\n",
      "Horsham & Grampians                      209\n",
      "Whyalla & Eyre Peninsula                 201\n",
      "Far West & North Central NSW             197\n",
      "Adelaide Hills & Barossa                 193\n",
      "Katherine & Northern Australia           187\n",
      "Mt Gambier & Limestone Coast             168\n",
      "Northam & Wheatbelt                      160\n",
      "Albany & Great Southern                  150\n",
      "Riverland & Murray Mallee                149\n",
      "Richmond & Hawkesbury                    140\n",
      "Coober Pedy & Outback SA                 112\n",
      "Yorke Peninsula & Clare Valley            96\n",
      "Tumut, Snowy & Monaro                     86\n",
      "Somerset & Lockyer                        65\n",
      "Fleurieu Peninsula & Kangaroo Island      64\n",
      "Central & South East TAS                  57\n"
     ]
    }
   ],
   "source": [
    "print(\"The number of jobs by Locations:\")\n",
    "print(data[[\"Location\",\"Id\"]].groupby(\"Location\").count().rename(columns={\"Id\":\"Number\"}).sort_values(by='Number',ascending=False))"
   ]
  },
  {
   "cell_type": "markdown",
   "metadata": {},
   "source": [
    "We can know that location Sydney has the most jobs and Central & South East TAS has the least. The range of number of jobs group by location is between 60765 to 57."
   ]
  },
  {
   "cell_type": "code",
   "execution_count": 92,
   "metadata": {},
   "outputs": [
    {
     "name": "stdout",
     "output_type": "stream",
     "text": [
      "Average salary group by areas:\n",
      "                                     LowestSalary  HighestSalary\n",
      "Area                                                            \n",
      "CBD, Inner West & Eastern Suburbs       78.883306     151.060807\n",
      "Ryde & Macquarie Park                   74.107143     133.289286\n",
      "CBD & Inner Suburbs                     72.404414     135.190208\n",
      "CBD, Inner & Western Suburbs            72.087971     128.846679\n",
      "North Shore & Northern Beaches          63.737981     111.699970\n",
      "Parramatta & Western Suburbs            59.942981     107.247463\n",
      "North West & Hills District             57.790026      95.004724\n",
      "Rockingham & Kwinana                    55.549451      88.142857\n",
      "Bayside & Eastern Suburbs               53.729072      92.391172\n",
      "Western Suburbs & Ipswich               52.218487      83.326891\n",
      "Fremantle & Southern Suburbs            52.073171      82.915188\n",
      "Northern Suburbs & Joondalup            51.709758      79.560467\n",
      "Eastern Suburbs                         51.344128      79.861343\n",
      "Southern Suburbs & Sutherland Shire     51.112104      85.869138\n",
      "Northern Suburbs                        50.554692      83.595090\n",
      "South West & M5 Corridor                49.884013      82.046708\n",
      "Western Suburbs                         49.453909      78.647608\n",
      "Bayside & South Eastern Suburbs         49.324586      77.153422\n",
      "Southern Suburbs & Logan                49.031352      76.943847\n"
     ]
    }
   ],
   "source": [
    "print(\"Average salary group by areas:\")\n",
    "print(data[[\"Area\",\"LowestSalary\"]].groupby([\"Area\"]).mean().join(data[[\"Area\",\"HighestSalary\"]].groupby([\"Area\"]).mean()).sort_values(by=[\"LowestSalary\",\"HighestSalary\"],ascending=False))"
   ]
  },
  {
   "cell_type": "markdown",
   "metadata": {},
   "source": [
    "We can find that for each area, the average highest salary is near twice than average lowest salary."
   ]
  },
  {
   "cell_type": "code",
   "execution_count": 93,
   "metadata": {},
   "outputs": [
    {
     "name": "stdout",
     "output_type": "stream",
     "text": [
      "Range of salary group by areas:\n",
      "                                     LowestSalary  HighestSalary\n",
      "Area                                                            \n",
      "Bayside & Eastern Suburbs                       0            999\n",
      "Bayside & South Eastern Suburbs                 0            999\n",
      "CBD & Inner Suburbs                             0            999\n",
      "CBD, Inner & Western Suburbs                    0            999\n",
      "CBD, Inner West & Eastern Suburbs               0            999\n",
      "Eastern Suburbs                                 0            999\n",
      "Fremantle & Southern Suburbs                    0            999\n",
      "North Shore & Northern Beaches                  0            999\n",
      "North West & Hills District                     0            999\n",
      "Northern Suburbs                                0            999\n",
      "Northern Suburbs & Joondalup                    0            999\n",
      "Parramatta & Western Suburbs                    0            999\n",
      "Rockingham & Kwinana                            0            999\n",
      "Ryde & Macquarie Park                           0            999\n",
      "South West & M5 Corridor                        0            999\n",
      "Southern Suburbs & Logan                        0            999\n",
      "Southern Suburbs & Sutherland Shire             0            999\n",
      "Western Suburbs                                 0            999\n",
      "Western Suburbs & Ipswich                       0            999\n"
     ]
    }
   ],
   "source": [
    "print(\"Range of salary group by areas:\")\n",
    "print(data[[\"Area\",\"LowestSalary\"]].groupby([\"Area\"]).min().join(data[[\"Area\",\"HighestSalary\"]].groupby([\"Area\"]).max()).sort_values(by=[\"LowestSalary\",\"HighestSalary\"],ascending=False))"
   ]
  },
  {
   "cell_type": "markdown",
   "metadata": {},
   "source": [
    "We can find that for each area, the lowest salary is 0 and highest salary is 999."
   ]
  },
  {
   "cell_type": "code",
   "execution_count": 94,
   "metadata": {},
   "outputs": [
    {
     "name": "stdout",
     "output_type": "stream",
     "text": [
      "Average salary group by locations:\n",
      "                                      LowestSalary  HighestSalary\n",
      "Location                                                         \n",
      "ACT                                      86.174400     198.718240\n",
      "Port Hedland, Karratha & Pilbara         77.522496     121.421716\n",
      "Kalgoorlie, Goldfields & Esperance       76.137931     115.647126\n",
      "Geraldton, Gascoyne & Midwest            73.489736     128.756598\n",
      "Coober Pedy & Outback SA                 73.303571     107.125000\n",
      "Sydney                                   71.882004     134.751041\n",
      "Port Macquarie & Mid North Coast         71.812367     149.605544\n",
      "Mackay & Coalfields                      69.711934     113.816578\n",
      "Western QLD                              69.357977     134.128405\n",
      "Far West & North Central NSW             69.289340     110.888325\n",
      "Darwin                                   68.467615     120.466035\n",
      "Tumut, Snowy & Monaro                    67.558140     133.081395\n",
      "Perth                                    66.969238     117.191090\n",
      "Dubbo & Central NSW                      66.915888     116.037383\n",
      "Katherine & Northern Australia           66.577540     126.791444\n",
      "Gladstone & Central QLD                  66.502809     104.528090\n",
      "Broome & Kimberley                       66.431095     117.628975\n",
      "Brisbane                                 65.875804     121.621588\n",
      "Rockhampton & Capricorn Coast            64.972527     114.673077\n",
      "Melbourne                                64.252302     113.982716\n",
      "Alice Springs & Central Australia        64.186047     113.647841\n",
      "Tamworth & North West NSW                61.278689     110.108197\n",
      "Bundaberg & Wide Bay Burnett             61.149144     127.176039\n",
      "Blue Mountains & Central West            60.764331     108.487261\n",
      "Mildura & Murray                         60.586319     118.872964\n",
      "Northern QLD                             59.792364     113.129940\n",
      "Newcastle, Maitland & Hunter             59.044972     102.482062\n",
      "Adelaide                                 57.991883      97.021494\n",
      "West Gippsland & Latrobe Valley          57.013889      93.586806\n",
      "Horsham & Grampians                      56.937799      91.698565\n",
      "Albany & Great Southern                  56.600000     101.233333\n",
      "Mandurah & Peel                          56.320000      90.140000\n",
      "Wollongong, Illawarra & South Coast      55.829813      90.895594\n",
      "Bairnsdale & Gippsland                   55.740741     105.328042\n",
      "Somerset & Lockyer                       55.538462      97.353846\n",
      "Hobart                                   55.480495      94.739296\n",
      "Lismore & Far North Coast                55.446756     103.205630\n",
      "Mt Gambier & Limestone Coast             55.178571     104.601190\n",
      "Wagga Wagga & Riverina                   54.501247      87.087282\n",
      "Cairns & Far North                       54.440027      94.074884\n",
      "Coffs Harbour & North Coast              54.318182     101.870455\n",
      "Gosford & Central Coast                  54.296351      88.876396\n",
      "Whyalla & Eyre Peninsula                 53.980100      86.000000\n",
      "Hervey Bay & Fraser Coast                53.263158      99.575439\n",
      "Ballarat & Central Highlands             53.067993      84.243781\n",
      "Devonport & North West                   53.007812      87.750000\n",
      "Launceston & North East                  52.216495      88.582474\n",
      "Central & South East TAS                 51.754386      68.245614\n",
      "Shepparton & Goulburn Valley             51.547421      85.850250\n",
      "Albury Area                              51.201923      75.543269\n",
      "Toowoomba & Darling Downs                51.076336      83.141221\n",
      "Bunbury & South West                     50.866142      79.795276\n",
      "South West Coast VIC                     50.726257      79.979888\n",
      "Northam & Wheatbelt                      50.500000      77.362500\n",
      "Southern Highlands & Tablelands          50.215054      79.918280\n",
      "Sunshine Coast                           49.864865      86.640283\n",
      "Gold Coast                               49.721293      82.994426\n",
      "Bendigo, Goldfields & Macedon Ranges     49.504950      70.402228\n",
      "Richmond & Hawkesbury                    49.000000      77.842857\n",
      "Riverland & Murray Mallee                48.926174      64.697987\n",
      "Yorke Peninsula & Clare Valley           44.895833      77.791667\n",
      "Yarra Valley & High Country              44.168337      68.945892\n",
      "Mornington Peninsula & Bass Coast        43.951286      73.446549\n",
      "Fleurieu Peninsula & Kangaroo Island     42.968750      58.125000\n",
      "Adelaide Hills & Barossa                 41.191710      68.948187\n"
     ]
    }
   ],
   "source": [
    "print(\"Average salary group by locations:\")\n",
    "print(data[[\"Location\",\"LowestSalary\"]].groupby([\"Location\"]).mean().join(data[[\"Location\",\"HighestSalary\"]].groupby([\"Location\"]).mean()).sort_values(by=[\"LowestSalary\",\"HighestSalary\"],ascending=False))"
   ]
  },
  {
   "cell_type": "code",
   "execution_count": 95,
   "metadata": {},
   "outputs": [
    {
     "name": "stdout",
     "output_type": "stream",
     "text": [
      "Range of salary group by locations:\n",
      "                                      LowestSalary  HighestSalary\n",
      "Location                                                         \n",
      "ACT                                              0            999\n",
      "Adelaide                                         0            999\n",
      "Adelaide Hills & Barossa                         0            999\n",
      "Albany & Great Southern                          0            999\n",
      "Albury Area                                      0            999\n",
      "Alice Springs & Central Australia                0            999\n",
      "Bairnsdale & Gippsland                           0            999\n",
      "Ballarat & Central Highlands                     0            999\n",
      "Bendigo, Goldfields & Macedon Ranges             0            999\n",
      "Blue Mountains & Central West                    0            999\n",
      "Brisbane                                         0            999\n",
      "Broome & Kimberley                               0            999\n",
      "Bunbury & South West                             0            999\n",
      "Bundaberg & Wide Bay Burnett                     0            999\n",
      "Cairns & Far North                               0            999\n",
      "Coffs Harbour & North Coast                      0            999\n",
      "Coober Pedy & Outback SA                         0            999\n",
      "Darwin                                           0            999\n",
      "Devonport & North West                           0            999\n",
      "Dubbo & Central NSW                              0            999\n",
      "Far West & North Central NSW                     0            999\n",
      "Geraldton, Gascoyne & Midwest                    0            999\n",
      "Gladstone & Central QLD                          0            999\n",
      "Gold Coast                                       0            999\n",
      "Gosford & Central Coast                          0            999\n",
      "Hervey Bay & Fraser Coast                        0            999\n",
      "Hobart                                           0            999\n",
      "Horsham & Grampians                              0            999\n",
      "Kalgoorlie, Goldfields & Esperance               0            999\n",
      "Katherine & Northern Australia                   0            999\n",
      "Launceston & North East                          0            999\n",
      "Lismore & Far North Coast                        0            999\n",
      "Mackay & Coalfields                              0            999\n",
      "Mandurah & Peel                                  0            999\n",
      "Melbourne                                        0            999\n",
      "Mildura & Murray                                 0            999\n",
      "Mornington Peninsula & Bass Coast                0            999\n",
      "Mt Gambier & Limestone Coast                     0            999\n",
      "Newcastle, Maitland & Hunter                     0            999\n",
      "Northam & Wheatbelt                              0            999\n",
      "Northern QLD                                     0            999\n",
      "Perth                                            0            999\n",
      "Port Hedland, Karratha & Pilbara                 0            999\n",
      "Port Macquarie & Mid North Coast                 0            999\n",
      "Richmond & Hawkesbury                            0            999\n",
      "Rockhampton & Capricorn Coast                    0            999\n",
      "Shepparton & Goulburn Valley                     0            999\n",
      "Somerset & Lockyer                               0            999\n",
      "South West Coast VIC                             0            999\n",
      "Southern Highlands & Tablelands                  0            999\n",
      "Sunshine Coast                                   0            999\n",
      "Sydney                                           0            999\n",
      "Tamworth & North West NSW                        0            999\n",
      "Toowoomba & Darling Downs                        0            999\n",
      "Tumut, Snowy & Monaro                            0            999\n",
      "Wagga Wagga & Riverina                           0            999\n",
      "West Gippsland & Latrobe Valley                  0            999\n",
      "Western QLD                                      0            999\n",
      "Whyalla & Eyre Peninsula                         0            999\n",
      "Wollongong, Illawarra & South Coast              0            999\n",
      "Yarra Valley & High Country                      0            999\n",
      "Yorke Peninsula & Clare Valley                   0            999\n",
      "Riverland & Murray Mallee                        0            200\n",
      "Central & South East TAS                         0            150\n",
      "Fleurieu Peninsula & Kangaroo Island             0            150\n"
     ]
    }
   ],
   "source": [
    "print(\"Range of salary group by locations:\")\n",
    "print(data[[\"Location\",\"LowestSalary\"]].groupby([\"Location\"]).min().join(data[[\"Location\",\"HighestSalary\"]].groupby([\"Location\"]).max()).sort_values(by=[\"LowestSalary\",\"HighestSalary\"],ascending=False))"
   ]
  },
  {
   "cell_type": "markdown",
   "metadata": {},
   "source": [
    "We can find that for each location, the lowest salary is 0 and highest salary is 999. Of course, for jobs in company and title, the range of salary is different."
   ]
  },
  {
   "cell_type": "code",
   "execution_count": 96,
   "metadata": {},
   "outputs": [],
   "source": [
    "date = []\n",
    "for i in range(len(data)):\n",
    "    tmp = data.iloc[[i],[3]].to_numpy()[0][0]\n",
    "    if tmp == tmp:\n",
    "        tmp = tmp.split(\"-\")\n",
    "        tmp[2] = int(tmp[2][0:2])\n",
    "        date.append(tmp)\n",
    "    else:\n",
    "        date.append([])"
   ]
  },
  {
   "cell_type": "code",
   "execution_count": 97,
   "metadata": {},
   "outputs": [],
   "source": [
    "date = pd.DataFrame(date)\n",
    "date.columns = [\"Year\", \"Month\", \"Day\"]"
   ]
  },
  {
   "cell_type": "code",
   "execution_count": 98,
   "metadata": {},
   "outputs": [
    {
     "name": "stdout",
     "output_type": "stream",
     "text": [
      "        Year Month  Day\n",
      "0       2018    10    7\n",
      "1       2018    10    7\n",
      "2       2018    10    7\n",
      "3       2018    10    7\n",
      "4       2018    10    7\n",
      "...      ...   ...  ...\n",
      "318472  2019    03   13\n",
      "318473  2019    03   13\n",
      "318474  2019    03   12\n",
      "318475  2019    03    8\n",
      "318476  2019    03   13\n",
      "\n",
      "[318477 rows x 3 columns]\n"
     ]
    }
   ],
   "source": [
    "print(date)"
   ]
  },
  {
   "cell_type": "code",
   "execution_count": 99,
   "metadata": {},
   "outputs": [
    {
     "name": "stdout",
     "output_type": "stream",
     "text": [
      "      Number\n",
      "Year        \n",
      "2018  226396\n",
      "2019   92081\n"
     ]
    }
   ],
   "source": [
    "print(date[[\"Year\",\"Day\"]].groupby([\"Year\"]).count().rename(columns={\"Day\":\"Number\"}))"
   ]
  },
  {
   "cell_type": "code",
   "execution_count": 100,
   "metadata": {},
   "outputs": [
    {
     "name": "stdout",
     "output_type": "stream",
     "text": [
      "            Number\n",
      "Year Month        \n",
      "2018 10     113782\n",
      "     11      40988\n",
      "     12      71626\n",
      "2019 01      69676\n",
      "     02      22003\n",
      "     03        402\n"
     ]
    }
   ],
   "source": [
    "print(date[[\"Year\",\"Month\",\"Day\"]].groupby([\"Year\",\"Month\"]).count().rename(columns={\"Day\":\"Number\"}))"
   ]
  },
  {
   "cell_type": "code",
   "execution_count": 101,
   "metadata": {},
   "outputs": [
    {
     "name": "stdout",
     "output_type": "stream",
     "text": [
      "     Number\n",
      "Day        \n",
      "10    20138\n",
      "12    17503\n",
      "4     16728\n",
      "18    16151\n",
      "9     15822\n",
      "17    15539\n",
      "11    15448\n",
      "5     15028\n",
      "13    14793\n",
      "14    14656\n",
      "21    13684\n",
      "3     12215\n",
      "7     11309\n",
      "22    10950\n",
      "31    10652\n",
      "15    10132\n",
      "2      9675\n",
      "30     9589\n",
      "8      9276\n",
      "20     8910\n",
      "19     8720\n",
      "16     8332\n",
      "6      6984\n",
      "29     5946\n",
      "1      4374\n",
      "27     3557\n",
      "28     3225\n",
      "26     2820\n",
      "24     2542\n",
      "25     2015\n",
      "23     1764\n"
     ]
    }
   ],
   "source": [
    "print(date[[\"Year\",\"Day\"]].groupby([\"Day\"]).count().rename(columns={\"Year\":\"Number\"}).sort_values(by=[\"Number\"],ascending=False))"
   ]
  },
  {
   "cell_type": "code",
   "execution_count": 102,
   "metadata": {},
   "outputs": [
    {
     "name": "stdout",
     "output_type": "stream",
     "text": [
      "     Number\n",
      "Day        \n",
      "10    20138\n",
      "12    17503\n",
      "4     16728\n",
      "18    16151\n",
      "9     15822\n",
      "17    15539\n",
      "11    15448\n",
      "5     15028\n",
      "13    14793\n",
      "14    14656\n",
      "21    13684\n",
      "3     12215\n",
      "7     11309\n",
      "22    10950\n",
      "31    10652\n",
      "15    10132\n",
      "2      9675\n",
      "30     9589\n",
      "8      9276\n",
      "20     8910\n",
      "19     8720\n",
      "16     8332\n",
      "6      6984\n",
      "29     5946\n",
      "1      4374\n",
      "27     3557\n",
      "28     3225\n",
      "26     2820\n",
      "24     2542\n",
      "25     2015\n",
      "23     1764\n"
     ]
    }
   ],
   "source": [
    "print(date[[\"Year\",\"Day\"]].groupby([\"Day\"]).count().rename(columns={\"Year\":\"Number\"}).sort_values(by=[\"Number\"],ascending=False))"
   ]
  },
  {
   "cell_type": "code",
   "execution_count": 103,
   "metadata": {},
   "outputs": [],
   "source": [
    "d_x = date[[\"Year\",\"Day\"]].groupby([\"Day\"]).count().rename(columns={\"Year\":\"Number\"}).sort_values(by=['Day',],ascending=True)"
   ]
  },
  {
   "cell_type": "code",
   "execution_count": 104,
   "metadata": {},
   "outputs": [
    {
     "name": "stdout",
     "output_type": "stream",
     "text": [
      "     Number\n",
      "Day        \n",
      "1      4374\n",
      "2      9675\n",
      "3     12215\n",
      "4     16728\n",
      "5     15028\n",
      "6      6984\n",
      "7     11309\n",
      "8      9276\n",
      "9     15822\n",
      "10    20138\n",
      "11    15448\n",
      "12    17503\n",
      "13    14793\n",
      "14    14656\n",
      "15    10132\n",
      "16     8332\n",
      "17    15539\n",
      "18    16151\n",
      "19     8720\n",
      "20     8910\n",
      "21    13684\n",
      "22    10950\n",
      "23     1764\n",
      "24     2542\n",
      "25     2015\n",
      "26     2820\n",
      "27     3557\n",
      "28     3225\n",
      "29     5946\n",
      "30     9589\n",
      "31    10652\n"
     ]
    }
   ],
   "source": [
    "print(d_x)"
   ]
  },
  {
   "cell_type": "code",
   "execution_count": 105,
   "metadata": {},
   "outputs": [
    {
     "data": {
      "image/png": "[encoded data removed]",
      "text/plain": [
       "<Figure size 432x288 with 1 Axes>"
      ]
     },
     "metadata": {
      "needs_background": "light"
     },
     "output_type": "display_data"
    }
   ],
   "source": [
    "import matplotlib.pyplot as plt\n",
    "plt.plot(d_x.index,d_x['Number'])\n",
    "plt.show()"
   ]
  },
  {
   "cell_type": "markdown",
   "metadata": {},
   "source": [
    "From the graph we can know that in each month, near 5, 15 and 25 there are troughs of jobs. There are peaks near 10 and 30."
   ]
  },
  {
   "cell_type": "markdown",
   "metadata": {},
   "source": [
    "## (3) Study the market by sectors"
   ]
  },
  {
   "cell_type": "code",
   "execution_count": 106,
   "metadata": {},
   "outputs": [
    {
     "name": "stdout",
     "output_type": "stream",
     "text": [
      "Different numbers of classification:\n",
      "                                        Number\n",
      "Classification                                \n",
      "Information & Communication Technology   22796\n",
      "Trades & Services                        17976\n",
      "Healthcare & Medical                     17085\n",
      "Hospitality & Tourism                    15523\n",
      "Manufacturing, Transport & Logistics     12376\n",
      "Administration & Office Support          10020\n",
      "Accounting                                9368\n",
      "Education & Training                      9280\n",
      "Construction                              8372\n",
      "Sales                                     8119\n",
      "Retail & Consumer Products                8041\n",
      "Government & Defence                      7443\n",
      "Engineering                               6458\n",
      "Mining, Resources & Energy                6288\n",
      "Banking & Financial Services              4633\n",
      "Community Services & Development          4485\n",
      "Legal                                     4237\n",
      "Human Resources & Recruitment             4144\n",
      "Call Centre & Customer Service            3971\n",
      "Marketing & Communications                3968\n",
      "Real Estate & Property                    3614\n",
      "Design & Architecture                     1811\n",
      "Insurance & Superannuation                1474\n",
      "Consulting & Strategy                     1206\n",
      "Sport & Recreation                         984\n",
      "Science & Technology                       905\n",
      "Farming, Animals & Conservation            882\n",
      "CEO & General Management                   844\n",
      "Advertising, Arts & Media                  833\n",
      "Self Employment                             93\n"
     ]
    }
   ],
   "source": [
    "print(\"Different numbers of classification:\")\n",
    "print(data[[\"Id\",\"Classification\"]].groupby(\"Classification\").count().rename(columns={\"Id\":\"Number\"}).sort_values(by=[\"Number\"],ascending=False))"
   ]
  },
  {
   "cell_type": "markdown",
   "metadata": {},
   "source": [
    "Information & Communication Technology has the most jobs and Self Employment has the least jobs."
   ]
  },
  {
   "cell_type": "code",
   "execution_count": 107,
   "metadata": {},
   "outputs": [
    {
     "name": "stdout",
     "output_type": "stream",
     "text": [
      "Different numbers of subclassification:\n",
      "                                                       Number\n",
      "Classification    SubClassification                          \n",
      "Trades & Services Automotive Trades                      3262\n",
      "                  Electricians                           1783\n",
      "                  Labourers                              1536\n",
      "                  Fitters, Turners & Machinists          1334\n",
      "                  Technicians                            1161\n",
      "...                                                       ...\n",
      "Accounting        Insolvency & Corporate Recovery          49\n",
      "                  Cost Accounting                          41\n",
      "                  Inventory & Fixed Assets                 25\n",
      "                  Forensic Accounting & Investigation      24\n",
      "                  Company Secretaries                      19\n",
      "\n",
      "[396 rows x 1 columns]\n"
     ]
    }
   ],
   "source": [
    "print(\"Different numbers of subclassification:\")\n",
    "d = data[[\"Id\",\"Classification\",\"SubClassification\"]].groupby([\"Classification\",\"SubClassification\"]).count().rename(columns={\"Id\":\"Number\"}).sort_values(by=[\"Classification\",\"Number\"],ascending=False)\n",
    "print(data[[\"Id\",\"Classification\",\"SubClassification\"]].groupby([\"Classification\",\"SubClassification\"]).count().rename(columns={\"Id\":\"Number\"}).sort_values(by=[\"Classification\",\"Number\"],ascending=False))"
   ]
  },
  {
   "cell_type": "markdown",
   "metadata": {},
   "source": [
    "From data below we can know the maximum number of jobs gourp by classification and sub classification. We can know the minimum of maximum of number of jobs of each Classification is 93 of Classification-self Employment and SubClassification:Self Employment and the maximum of maximum of number of jobs of each Classification is 4600 of Classification Hospitality & Tourism and sub classification Waiting Staff."
   ]
  },
  {
   "cell_type": "code",
   "execution_count": 108,
   "metadata": {},
   "outputs": [
    {
     "data": {
      "text/html": [
       "<div>\n",
       "<style scoped>\n",
       "    .dataframe tbody tr th:only-of-type {\n",
       "        vertical-align: middle;\n",
       "    }\n",
       "\n",
       "    .dataframe tbody tr th {\n",
       "        vertical-align: top;\n",
       "    }\n",
       "\n",
       "    .dataframe thead th {\n",
       "        text-align: right;\n",
       "    }\n",
       "</style>\n",
       "<table border=\"1\" class=\"dataframe\">\n",
       "  <thead>\n",
       "    <tr style=\"text-align: right;\">\n",
       "      <th></th>\n",
       "      <th>Classification</th>\n",
       "      <th>SubClassification</th>\n",
       "      <th>Number</th>\n",
       "    </tr>\n",
       "  </thead>\n",
       "  <tbody>\n",
       "    <tr>\n",
       "      <th>27</th>\n",
       "      <td>Self Employment</td>\n",
       "      <td>Self Employment</td>\n",
       "      <td>93</td>\n",
       "    </tr>\n",
       "    <tr>\n",
       "      <th>2</th>\n",
       "      <td>Advertising, Arts &amp; Media</td>\n",
       "      <td>Promotions</td>\n",
       "      <td>147</td>\n",
       "    </tr>\n",
       "    <tr>\n",
       "      <th>12</th>\n",
       "      <td>Farming, Animals &amp; Conservation</td>\n",
       "      <td>Winery &amp; Viticulture</td>\n",
       "      <td>171</td>\n",
       "    </tr>\n",
       "    <tr>\n",
       "      <th>26</th>\n",
       "      <td>Science &amp; Technology</td>\n",
       "      <td>Quality Assurance &amp; Control</td>\n",
       "      <td>197</td>\n",
       "    </tr>\n",
       "    <tr>\n",
       "      <th>8</th>\n",
       "      <td>Consulting &amp; Strategy</td>\n",
       "      <td>Strategy &amp; Planning</td>\n",
       "      <td>344</td>\n",
       "    </tr>\n",
       "    <tr>\n",
       "      <th>28</th>\n",
       "      <td>Sport &amp; Recreation</td>\n",
       "      <td>Other</td>\n",
       "      <td>406</td>\n",
       "    </tr>\n",
       "    <tr>\n",
       "      <th>9</th>\n",
       "      <td>Design &amp; Architecture</td>\n",
       "      <td>Web &amp; Interaction Design</td>\n",
       "      <td>436</td>\n",
       "    </tr>\n",
       "    <tr>\n",
       "      <th>4</th>\n",
       "      <td>CEO &amp; General Management</td>\n",
       "      <td>Other</td>\n",
       "      <td>520</td>\n",
       "    </tr>\n",
       "    <tr>\n",
       "      <th>18</th>\n",
       "      <td>Insurance &amp; Superannuation</td>\n",
       "      <td>Workers' Compensation</td>\n",
       "      <td>536</td>\n",
       "    </tr>\n",
       "    <tr>\n",
       "      <th>3</th>\n",
       "      <td>Banking &amp; Financial Services</td>\n",
       "      <td>Treasury</td>\n",
       "      <td>723</td>\n",
       "    </tr>\n",
       "    <tr>\n",
       "      <th>19</th>\n",
       "      <td>Legal</td>\n",
       "      <td>Tax Law</td>\n",
       "      <td>735</td>\n",
       "    </tr>\n",
       "    <tr>\n",
       "      <th>21</th>\n",
       "      <td>Marketing &amp; Communications</td>\n",
       "      <td>Trade Marketing</td>\n",
       "      <td>748</td>\n",
       "    </tr>\n",
       "    <tr>\n",
       "      <th>16</th>\n",
       "      <td>Human Resources &amp; Recruitment</td>\n",
       "      <td>Training &amp; Development</td>\n",
       "      <td>1135</td>\n",
       "    </tr>\n",
       "    <tr>\n",
       "      <th>23</th>\n",
       "      <td>Real Estate &amp; Property</td>\n",
       "      <td>Valuation</td>\n",
       "      <td>1166</td>\n",
       "    </tr>\n",
       "    <tr>\n",
       "      <th>0</th>\n",
       "      <td>Accounting</td>\n",
       "      <td>Treasury</td>\n",
       "      <td>1183</td>\n",
       "    </tr>\n",
       "    <tr>\n",
       "      <th>11</th>\n",
       "      <td>Engineering</td>\n",
       "      <td>Water &amp; Waste Engineering</td>\n",
       "      <td>1698</td>\n",
       "    </tr>\n",
       "    <tr>\n",
       "      <th>7</th>\n",
       "      <td>Construction</td>\n",
       "      <td>Surveying</td>\n",
       "      <td>1930</td>\n",
       "    </tr>\n",
       "    <tr>\n",
       "      <th>6</th>\n",
       "      <td>Community Services &amp; Development</td>\n",
       "      <td>Volunteer Coordination &amp; Support</td>\n",
       "      <td>1966</td>\n",
       "    </tr>\n",
       "    <tr>\n",
       "      <th>5</th>\n",
       "      <td>Call Centre &amp; Customer Service</td>\n",
       "      <td>Supervisors/Team Leaders</td>\n",
       "      <td>2087</td>\n",
       "    </tr>\n",
       "    <tr>\n",
       "      <th>14</th>\n",
       "      <td>Healthcare &amp; Medical</td>\n",
       "      <td>Speech Therapy</td>\n",
       "      <td>2130</td>\n",
       "    </tr>\n",
       "    <tr>\n",
       "      <th>22</th>\n",
       "      <td>Mining, Resources &amp; Energy</td>\n",
       "      <td>Surveying</td>\n",
       "      <td>2174</td>\n",
       "    </tr>\n",
       "    <tr>\n",
       "      <th>10</th>\n",
       "      <td>Education &amp; Training</td>\n",
       "      <td>Workplace Training &amp; Assessment</td>\n",
       "      <td>2383</td>\n",
       "    </tr>\n",
       "    <tr>\n",
       "      <th>29</th>\n",
       "      <td>Trades &amp; Services</td>\n",
       "      <td>Welders &amp; Boilermakers</td>\n",
       "      <td>3262</td>\n",
       "    </tr>\n",
       "    <tr>\n",
       "      <th>25</th>\n",
       "      <td>Sales</td>\n",
       "      <td>Sales Representatives/Consultants</td>\n",
       "      <td>3370</td>\n",
       "    </tr>\n",
       "    <tr>\n",
       "      <th>20</th>\n",
       "      <td>Manufacturing, Transport &amp; Logistics</td>\n",
       "      <td>Warehousing, Storage &amp; Distribution</td>\n",
       "      <td>3636</td>\n",
       "    </tr>\n",
       "    <tr>\n",
       "      <th>13</th>\n",
       "      <td>Government &amp; Defence</td>\n",
       "      <td>Policy, Planning &amp; Regulation</td>\n",
       "      <td>3701</td>\n",
       "    </tr>\n",
       "    <tr>\n",
       "      <th>24</th>\n",
       "      <td>Retail &amp; Consumer Products</td>\n",
       "      <td>Retail Assistants</td>\n",
       "      <td>3902</td>\n",
       "    </tr>\n",
       "    <tr>\n",
       "      <th>17</th>\n",
       "      <td>Information &amp; Communication Technology</td>\n",
       "      <td>Web Development &amp; Production</td>\n",
       "      <td>4211</td>\n",
       "    </tr>\n",
       "    <tr>\n",
       "      <th>1</th>\n",
       "      <td>Administration &amp; Office Support</td>\n",
       "      <td>Records Management &amp; Document Control</td>\n",
       "      <td>4572</td>\n",
       "    </tr>\n",
       "    <tr>\n",
       "      <th>15</th>\n",
       "      <td>Hospitality &amp; Tourism</td>\n",
       "      <td>Waiting Staff</td>\n",
       "      <td>4600</td>\n",
       "    </tr>\n",
       "  </tbody>\n",
       "</table>\n",
       "</div>"
      ],
      "text/plain": [
       "                            Classification  \\\n",
       "27                         Self Employment   \n",
       "2                Advertising, Arts & Media   \n",
       "12         Farming, Animals & Conservation   \n",
       "26                    Science & Technology   \n",
       "8                    Consulting & Strategy   \n",
       "28                      Sport & Recreation   \n",
       "9                    Design & Architecture   \n",
       "4                 CEO & General Management   \n",
       "18              Insurance & Superannuation   \n",
       "3             Banking & Financial Services   \n",
       "19                                   Legal   \n",
       "21              Marketing & Communications   \n",
       "16           Human Resources & Recruitment   \n",
       "23                  Real Estate & Property   \n",
       "0                               Accounting   \n",
       "11                             Engineering   \n",
       "7                             Construction   \n",
       "6         Community Services & Development   \n",
       "5           Call Centre & Customer Service   \n",
       "14                    Healthcare & Medical   \n",
       "22              Mining, Resources & Energy   \n",
       "10                    Education & Training   \n",
       "29                       Trades & Services   \n",
       "25                                   Sales   \n",
       "20    Manufacturing, Transport & Logistics   \n",
       "13                    Government & Defence   \n",
       "24              Retail & Consumer Products   \n",
       "17  Information & Communication Technology   \n",
       "1          Administration & Office Support   \n",
       "15                   Hospitality & Tourism   \n",
       "\n",
       "                        SubClassification  Number  \n",
       "27                        Self Employment      93  \n",
       "2                              Promotions     147  \n",
       "12                   Winery & Viticulture     171  \n",
       "26            Quality Assurance & Control     197  \n",
       "8                     Strategy & Planning     344  \n",
       "28                                  Other     406  \n",
       "9                Web & Interaction Design     436  \n",
       "4                                   Other     520  \n",
       "18                  Workers' Compensation     536  \n",
       "3                                Treasury     723  \n",
       "19                                Tax Law     735  \n",
       "21                        Trade Marketing     748  \n",
       "16                 Training & Development    1135  \n",
       "23                              Valuation    1166  \n",
       "0                                Treasury    1183  \n",
       "11              Water & Waste Engineering    1698  \n",
       "7                               Surveying    1930  \n",
       "6        Volunteer Coordination & Support    1966  \n",
       "5                Supervisors/Team Leaders    2087  \n",
       "14                         Speech Therapy    2130  \n",
       "22                              Surveying    2174  \n",
       "10        Workplace Training & Assessment    2383  \n",
       "29                 Welders & Boilermakers    3262  \n",
       "25      Sales Representatives/Consultants    3370  \n",
       "20    Warehousing, Storage & Distribution    3636  \n",
       "13          Policy, Planning & Regulation    3701  \n",
       "24                      Retail Assistants    3902  \n",
       "17           Web Development & Production    4211  \n",
       "1   Records Management & Document Control    4572  \n",
       "15                          Waiting Staff    4600  "
      ]
     },
     "execution_count": 108,
     "metadata": {},
     "output_type": "execute_result"
    }
   ],
   "source": [
    "d = d.reset_index()\n",
    "d = d.groupby('Classification').max().reset_index()\n",
    "d.sort_values(by=['Number'])"
   ]
  },
  {
   "cell_type": "code",
   "execution_count": 109,
   "metadata": {},
   "outputs": [
    {
     "name": "stdout",
     "output_type": "stream",
     "text": [
      "Average salary group by classification:\n",
      "                                                           LowestSalary  \\\n",
      "Classification    SubClassification                                       \n",
      "Trades & Services Electricians                                55.541223   \n",
      "                  Fitters, Turners & Machinists               53.733133   \n",
      "                  Air Conditioning & Refrigeration            52.543860   \n",
      "                  Plumbers                                    47.354497   \n",
      "                  Welders & Boilermakers                      48.017316   \n",
      "...                                                                 ...   \n",
      "Accounting        Accounts Officers/Clerks                    44.090420   \n",
      "                  Accounts Payable                            42.241055   \n",
      "                  Assistant Accountants                       43.957845   \n",
      "                  Accounts Receivable/Credit Control          44.019608   \n",
      "                  Bookkeeping & Small Practice Accounting     42.643678   \n",
      "\n",
      "                                                           HighestSalary  \n",
      "Classification    SubClassification                                       \n",
      "Trades & Services Electricians                                 74.967471  \n",
      "                  Fitters, Turners & Machinists                74.508996  \n",
      "                  Air Conditioning & Refrigeration             71.524561  \n",
      "                  Plumbers                                     70.943563  \n",
      "                  Welders & Boilermakers                       64.735931  \n",
      "...                                                                  ...  \n",
      "Accounting        Accounts Officers/Clerks                     66.009688  \n",
      "                  Accounts Payable                             61.745763  \n",
      "                  Assistant Accountants                        60.653396  \n",
      "                  Accounts Receivable/Credit Control           60.374183  \n",
      "                  Bookkeeping & Small Practice Accounting      57.816092  \n",
      "\n",
      "[396 rows x 2 columns]\n"
     ]
    }
   ],
   "source": [
    "print(\"Average salary group by classification:\")\n",
    "print(data[[\"Classification\",\"SubClassification\",\"LowestSalary\"]].groupby([\"Classification\",\"SubClassification\"]).mean().join(data[[\"Classification\",\"SubClassification\",\"HighestSalary\"]].groupby([\"Classification\",\"SubClassification\"]).mean()).sort_values(by=[\"Classification\",\"HighestSalary\",\"LowestSalary\"],ascending=False))"
   ]
  },
  {
   "cell_type": "code",
   "execution_count": 110,
   "metadata": {
    "scrolled": true
   },
   "outputs": [
    {
     "name": "stdout",
     "output_type": "stream",
     "text": [
      "Range of salary group by classification:\n",
      "                                                           LowestSalary  \\\n",
      "Classification    SubClassification                                       \n",
      "Trades & Services Air Conditioning & Refrigeration                    0   \n",
      "                  Automotive Trades                                   0   \n",
      "                  Building Trades                                     0   \n",
      "                  Carpentry & Cabinet Making                          0   \n",
      "                  Cleaning Services                                   0   \n",
      "...                                                                 ...   \n",
      "Accounting        Bookkeeping & Small Practice Accounting             0   \n",
      "                  Cost Accounting                                     0   \n",
      "                  Insolvency & Corporate Recovery                     0   \n",
      "                  Systems Accounting & IT Audit                       0   \n",
      "                  Inventory & Fixed Assets                            0   \n",
      "\n",
      "                                                           HighestSalary  \n",
      "Classification    SubClassification                                       \n",
      "Trades & Services Air Conditioning & Refrigeration                   999  \n",
      "                  Automotive Trades                                  999  \n",
      "                  Building Trades                                    999  \n",
      "                  Carpentry & Cabinet Making                         999  \n",
      "                  Cleaning Services                                  999  \n",
      "...                                                                  ...  \n",
      "Accounting        Bookkeeping & Small Practice Accounting            200  \n",
      "                  Cost Accounting                                    200  \n",
      "                  Insolvency & Corporate Recovery                    200  \n",
      "                  Systems Accounting & IT Audit                      200  \n",
      "                  Inventory & Fixed Assets                           150  \n",
      "\n",
      "[396 rows x 2 columns]\n"
     ]
    }
   ],
   "source": [
    "print(\"Range of salary group by classification:\")\n",
    "print(data[[\"Classification\",\"SubClassification\",\"LowestSalary\"]].groupby([\"Classification\",\"SubClassification\"]).min().join(data[[\"Classification\",\"SubClassification\",\"HighestSalary\"]].groupby([\"Classification\",\"SubClassification\"]).max()).sort_values(by=[\"Classification\",\"HighestSalary\",\"LowestSalary\"],ascending=False))"
   ]
  },
  {
   "cell_type": "code",
   "execution_count": 111,
   "metadata": {},
   "outputs": [
    {
     "name": "stdout",
     "output_type": "stream",
     "text": [
      "Number of different Classification and SubClassification\n",
      "                                                      Number\n",
      "Classification    SubClassification                         \n",
      "Accounting        Accounts Officers/Clerks               929\n",
      "                  Accounts Payable                       531\n",
      "                  Accounts Receivable/Credit Control     612\n",
      "                  Analysis & Reporting                   530\n",
      "                  Assistant Accountants                  427\n",
      "...                                                      ...\n",
      "Trades & Services Printing & Publishing Services         154\n",
      "                  Security Services                      483\n",
      "                  Tailors & Dressmakers                   35\n",
      "                  Technicians                           1161\n",
      "                  Welders & Boilermakers                1155\n",
      "\n",
      "[396 rows x 1 columns]\n"
     ]
    }
   ],
   "source": [
    "print(\"Number of different Classification and SubClassification\")\n",
    "print(data[[\"Classification\",\"SubClassification\",\"Id\"]].groupby([\"Classification\",\"SubClassification\"]).count().rename(columns={\"SubClassification\":\"Skills\",\"Id\":\"Number\"}))"
   ]
  },
  {
   "cell_type": "markdown",
   "metadata": {},
   "source": [
    "## (4) Visualize the results."
   ]
  },
  {
   "cell_type": "code",
   "execution_count": 112,
   "metadata": {},
   "outputs": [],
   "source": [
    "new_data=data.join(date)"
   ]
  },
  {
   "cell_type": "code",
   "execution_count": 113,
   "metadata": {},
   "outputs": [
    {
     "name": "stdout",
     "output_type": "stream",
     "text": [
      "         Id                                              Title  \\\n",
      "0  37404348                           Casual Stock Replenisher   \n",
      "1  37404337                           Casual Stock Replenisher   \n",
      "2  37404356  RETAIL SALES SUPERSTARS and STYLISTS Wanted - ...   \n",
      "3  37404330                              Team member - Belrose   \n",
      "4  37404308  Business Banking Contact Centre Specialist, Ni...   \n",
      "\n",
      "                                          Company                      Date  \\\n",
      "0                                     Aldi Stores  2018-10-07T00:00:00.000Z   \n",
      "1                                     Aldi Stores  2018-10-07T00:00:00.000Z   \n",
      "2                             LB Creative Pty Ltd  2018-10-07T00:00:00.000Z   \n",
      "3                          Anaconda Group Pty Ltd  2018-10-07T00:00:00.000Z   \n",
      "4  Commonwealth Bank - Business & Private Banking  2018-10-07T00:00:00.000Z   \n",
      "\n",
      "                  Location                         Area  \\\n",
      "0                   Sydney  North West & Hills District   \n",
      "1    Richmond & Hawkesbury                          NaN   \n",
      "2                 Brisbane          CBD & Inner Suburbs   \n",
      "3  Gosford & Central Coast                          NaN   \n",
      "4                   Sydney        Ryde & Macquarie Park   \n",
      "\n",
      "                   Classification  SubClassification  \\\n",
      "0      Retail & Consumer Products  Retail Assistants   \n",
      "1      Retail & Consumer Products  Retail Assistants   \n",
      "2      Retail & Consumer Products  Retail Assistants   \n",
      "3      Retail & Consumer Products  Retail Assistants   \n",
      "4  Call Centre & Customer Service    Sales - Inbound   \n",
      "\n",
      "                                         Requirement FullDescription  \\\n",
      "0  Our Casual Stock Replenishers pride themselves...             NaN   \n",
      "1  Our Casual Stock Replenishers pride themselves...             NaN   \n",
      "2  BRAND NEW FLAGSHIP STORE OPENING - SUNSHINE PLAZA             NaN   \n",
      "3  Bring it on - do you love the great outdoors a...             NaN   \n",
      "4  We are seeking highly articulate, enthusiastic...             NaN   \n",
      "\n",
      "   LowestSalary  HighestSalary JobType  Year Month  Day  \n",
      "0             0             30     NaN  2018    10    7  \n",
      "1             0             30     NaN  2018    10    7  \n",
      "2             0             30     NaN  2018    10    7  \n",
      "3             0             30     NaN  2018    10    7  \n",
      "4             0             30     NaN  2018    10    7  \n"
     ]
    }
   ],
   "source": [
    "print(new_data.head())"
   ]
  },
  {
   "cell_type": "code",
   "execution_count": 114,
   "metadata": {},
   "outputs": [
    {
     "name": "stdout",
     "output_type": "stream",
     "text": [
      "Columns and names must be legal values!\n",
      "For example:\n"
     ]
    },
    {
     "data": {
      "image/png": "[encoded data removed]",
      "text/plain": [
       "<Figure size 432x288 with 1 Axes>"
      ]
     },
     "metadata": {
      "needs_background": "light"
     },
     "output_type": "display_data"
    }
   ],
   "source": [
    "import matplotlib.pyplot as plt\n",
    "def plt_by(column, name):\n",
    "    x = new_data[[\"Id\",column,\"Year\",\"Month\"]].loc[new_data[column] == name].groupby([\"Year\",\"Month\"]).count().rename(columns={\"Id\":\"Number\"}).index.tolist()\n",
    "    if len(x) == 0:\n",
    "        print(\"Something wrong, please retry!\")\n",
    "        return\n",
    "    for i in range(len(x)):\n",
    "        x[i] = str(x[i][0])+\"-\"+str(x[i][1])\n",
    "    y = new_data[[\"Id\",column,\"Year\",\"Month\"]].loc[new_data[column] == name].groupby([\"Year\",\"Month\"]).count().rename(columns={\"Id\":\"Number\"})[\"Number\"].to_numpy()\n",
    "    plt.plot(x,y)\n",
    "    plt.title(column+\" : \"+name)\n",
    "    plt.show()\n",
    "print(\"Columns and names must be legal values!\")\n",
    "print(\"For example:\")\n",
    "plt_by(\"Location\",\"Sydney\")"
   ]
  },
  {
   "cell_type": "code",
   "execution_count": 115,
   "metadata": {},
   "outputs": [
    {
     "data": {
      "image/png": "[encoded data removed]",
      "text/plain": [
       "<Figure size 432x288 with 1 Axes>"
      ]
     },
     "metadata": {
      "needs_background": "light"
     },
     "output_type": "display_data"
    }
   ],
   "source": [
    "plt_by(\"Location\",\"Richmond & Hawkesbury\" )"
   ]
  },
  {
   "cell_type": "code",
   "execution_count": 116,
   "metadata": {},
   "outputs": [
    {
     "data": {
      "image/png": "[encoded data removed]",
      "text/plain": [
       "<Figure size 432x288 with 1 Axes>"
      ]
     },
     "metadata": {
      "needs_background": "light"
     },
     "output_type": "display_data"
    }
   ],
   "source": [
    "plt_by(\"Area\",\"North West & Hills District\" )"
   ]
  },
  {
   "cell_type": "markdown",
   "metadata": {},
   "source": [
    "# Part 3-Evaluation\n",
    "## (1) What are the findings of your data analytics for the above sections?"
   ]
  },
  {
   "cell_type": "markdown",
   "metadata": {},
   "source": [
    "(1) In October, November, December three months, the order of number of jobs is October > November > December. \n",
    "\n",
    "(2) For some reasons, the number of jobs in 2019 is much smaller than the number in 2018.\n",
    "\n",
    "(3) At the beginning and end of each month, the number of jobs is fewer than the number in the middle of month on average.\n",
    "\n",
    "(4) IT has better working condition than others based on the number of jobs and average salary.\n",
    "\n",
    "(5) Jobs in November are generally less than the number of jobs in other two months. So It's better to search for jobs before November."
   ]
  },
  {
   "cell_type": "markdown",
   "metadata": {},
   "source": [
    "## (2) What actions for balancing the markets do you suggest based on your findings?"
   ]
  },
  {
   "cell_type": "markdown",
   "metadata": {},
   "source": [
    "For individuals, it's better to search for jobs at the beginning or end of a month instead of in the middle of a month. It's better to search for jobs in IT and Health care because they have many needs and the salary is not bad.\n",
    "\n",
    "For government, it's better to carry out employment guidance and training before October, leave the unemployed some time to learn new skills then to find jobs at the peak near October instead of in the trough near December."
   ]
  },
  {
   "cell_type": "markdown",
   "metadata": {},
   "source": [
    "## (3) How could you refine your data analytics?\n",
    "I need to use natural language processing skills to analyse the requirement and full description to conclude them in several words, then I can know more detailed information about the market.\n",
    "\n",
    "I want to know the welfare and more detailed information about the company. I want to know the detailed location of each job."
   ]
  },
  {
   "cell_type": "markdown",
   "metadata": {},
   "source": [
    "## (4) Are there any implications for employers and employees based on the findings you obtained? Justify your answer."
   ]
  },
  {
   "cell_type": "markdown",
   "metadata": {},
   "source": [
    "Both employers and employees need to modify their strategies about jobs to reach their goals. For employers, they can increase salary at the peak and decrease salary in the trough to maximize economic benefits. For employees, they seize the opportunity at the peak. They also need to think the company, location and industry based on their skills, experience and target salary."
   ]
  },
  {
   "cell_type": "markdown",
   "metadata": {},
   "source": [
    "# Part 4 - Case Studies\n",
    "## Case Study 1:"
   ]
  },
  {
   "cell_type": "markdown",
   "metadata": {},
   "source": [
    "In computer science, there are many industries that can provide high salary for him, such as VM engineer, security architectist, data sciencist, x3 DevOps Engineer, Net Developer, Java Developer and so on. "
   ]
  },
  {
   "cell_type": "code",
   "execution_count": 117,
   "metadata": {},
   "outputs": [
    {
     "name": "stdout",
     "output_type": "stream",
     "text": [
      "['VMware Engineer needed for a VmWare Migration project. We have a project required to migrate an ESXi Server remotely.', 'Security Solution Architect needed to assist with Perimeter and Data Leakage protection design. Contract role based in Sydney CBD', 'Exciting new career opportunity to lead the provision\\xa0of operational direction of DSG', 'Exciting new career opportunity to lead the strategic digital customer experience', 'An exciting opportunity to lead information management across NSW government', 'Immediate requirement for Program Managers to join a leading Federal Government Department in Melbourne for a 12-month contract!', \"One of Australia's biggest organisations is looking for a senior delivery leader who will own the backlog of a large area of work\", 'Lotus Notes Administrator for Federal Government Project. Australian Citizen . NV1 Security Clearance. 6 months role. Hourly Rate $100 to $110.', 'You will possess strong SQLServer experience and able to develop, maintain and enhance a suite of complex reports and data driven and applications.', 'Initial contract till June 2019 | Australian Citizenship essential', 'You will possess strong experience with the Esri GIS suite and strong SQLServer exeprience.', 'x3 DevOps Engineer with strong mobile applications development skills is required for long term contract based in Brisbane CBD! ', 'Senior Project Manager required to join government department in delivery of multiple ICT applications-focussed projects. Cloud platform technologies.', 'Our client is looking for a SAP Change Manager to join a large transformation project ', 'The  PM will be responsible for overseeing the successful delivery of projects that fit within the Field Services Division of our client. ', 'Opportunity to join a leading education organisation for an initial 6 month project focusing on the implementation of a Student Management Systems', 'Join an exciting robust federal government program located in Geelong for an initial 3 month contract with the view to extend.', 'Establish and implement a Managed Services Framework and manage two providers in the Infrastructure space', 'A .Net Developer is required to assist on a large national project for a federal government department. Contract role that will run until June 2019.', 'A Java Developer is required to assist on a large national project for a federal government department. Contract role that will run until June 2019.', 'Initial contract till June 2019 | Baseline security clearance essential', 'Awesome opportunity for a Technical Cyber Security Manager  - Large projects - Fantastic company with a great culture! ', 'Seeking a Business Intelligence Analyst with strong experience using SQL and Tableau. ', 'The Project Manager will be responsible for a project for mobility of workforce / work order management / mobility ', 'Manage the networking component for the development of the TCN networking system including NIS and NPMS development aspects', 'Dotnet-.Net-C#-SQL Server-.Net Framework-ASP .Net- MVC-Web API / REST- HTML-CSS-Jquery - Full Stack dotnet developer', \"Leading Financial Services Company looking for seasoned Senior BA's for large Wealth and Insurance projects. \", 'Security Speciality Engineering Lead is responsible for defining, deploying and executing the security engineering activity', 'We are looking for a Infrastructure Solution Architect working n priority ICT business initiatives within the Digital services division. Brisbane ', 'A local Government Department with exciting projects to better assist Victorians is seeking a Business Analyst with experience in RFQ creation', 'LATEST TECHNOLOGY| EXCITING PROJECT | ATTRACTIVE DAILY RATES | IMMEDIATE START AVAILABLE', 'Information Security Project Manager drive the uplift of the security program from end to end.    ', 'Great opportunity for a BA to work in a diversified entertainment company. ', 'Lucrative 3 month contract with CBD based Govt Department. Full MS BI Stack and Azure cloud technology, immediate start available. Apply Now!  ', 'Seeking an Information and Records Management System Administrators to to Support the TRIM system within the Agency. ', 'Work on automation testing for a leading manufacturing company on a greenfield web application implementation.  ', 'Work on an implementation of a new Integration platform for a leading manufacturing company. ', \"Facilitate the design, implementation and support of this organisation's rapidly growing systems requirements\", 'Great opportunity for an experience program manager to join a well known organisation and contribute to the delivery of multiple projects.', 'Leading state government department requires a highly skilled and experienced solution architect.', 'We are looking for a Infrastructure Solution Architect working n priority ICT business initiatives within the Digital services division.', 'A short term engagement with a highly attractive remuneration rate for a Business Analyst with experience around the analysis of Payroll systems.', 'New contract opportunity for an experienced Business Analyst with Mobility experience, working on a large digital transformation project.  ', 'The role will be to design and implement a data warehouse and BI/Analytics platform solution ', 'Specialist Hardware Engineers required to capture & translate hardware solution requirements / install & manage hardware devices for IoT projects.', 'Join a very well funded & established business & lead the Front End Development on a NEW product! React / Redux / Node / GraphQL, React Native, AWS!', 'Looking for the very best .Net talent in Australia to join a high calibre team working on a leading high traffic & transactional payment application!', 'SAP PM/PS/PP Consultant required for a Melbourne based 6 month contract!', 'Looking for an experienced Solution Architect to design and implement a data warehouse and BI/Analytics platform solution for this leading government', 'Enterprise Solution Architect is required with experience in data management and integration experience using Microsoft Azure technologies', 'This is an exciting time to join as a Technical Cloud Specialist in an organisation  that is growing and making a real impact with their clients.', 'Are you an expert in Java programming and Devops CI/CD? This is a great opportunity to join a top finance firm.', 'An experienced change manager from a Financial Services background is required to work on a large transformation program of work in the CBD.', 'Project Manager require to manage an Investment Management/Trading technology implementation.', 'Create a customer-centric focus in Wealth Investment & Advice products\\nEngage multiple areas of the business to deliver outcomes quickly', 'Proven experience delivering projects in an enterprise BI data analytics space with well developed vendor partnership/relationships. ', 'Apply Business and ICT Analysis skills on a program of work for this large energy Utility', 'FULL STACK OPPORTUNITY | 6 MONTH CONTRACT | PRODUCT COMPANY | ', 'I am looking to appoint a contract SAP Cutover Manager for a large Canberra government project.', 'Role is responsible for leading consulting assignments across large enterprise including architecture, digital and transformation', 'Immediate hiring | Contract till June 30th 2019 with extensions | Minimum NV1 clearance is a must', 'An experienced SAP Trainer/SAP Course Developer is required urgently.', 'Federal Government client is looking to engage the services of an experienced Drupal Developer to assist in the project in launching a new website', 'We are working with an extremely successful Australian Fintech company that have a proprietary market leading platform trades billions of dollars.', 'Are you passionate about automation? Are you excited about and able to devise the optimum solution to ensure the client has the best possible outcome?', 'Technical delivery of new projects, solution design for new systems and BAU operation support.', 'IT PMO Lead required for a 8 month Melbourne based contract', 'IAM leader to join a global Financial Services company to run the Authentication and Authorisation Services programme globally. ', 'New SAP Project Melbourne CBD- Australian Citizens - Multiple SAP CRM and PSCD Functional - ABAP FIORI/CRM/UI5/BRF+ Australian Citizens', '12 months contract | Australian Citizenship essential with security clearance\\n', 'Project Manager with regulatory/compliance projects experience to work within large bank based in Sydney CBD', 'Secure a new long-term role! Assist in the new architecture in the design, build and test phases.', 'A market leading life insurer have a requirement for a Platform Architect to join their team. ', 'Map business processes using BPMN, document business requirements and manage work packages for an ICT solution replacement project. APPLY NOW!', 'Seeking a CIO for permanent role based in CBD. High impact role in a boutique environment - Build capabilities around Digital, Transformation & Change', 'Design the network and IT technology architecture and manage delivery for a major resource industry project.', '6 months initial contract.\\nProjects and BAU Cisco, Palo Alto, FortiGate firewalls and F5', 'Senior Project Manager required URGENTLY for a Data Centre Transformation Programme', 'The Application Architect is responsible for the development of the technology solutions and mapping of business requirements.', 'Hudson has an exciting opportunity for an experienced Data Scientist to work within a cross-disciplined team.', 'Director of Architecture (Payments/ transactional Banking) within what will be the largest transformational program within transactional banking ', 'URGENT - Business Process Analyst Subcontractor - can be based in any location - Applicants invited from Brisbane, Sydney, Melbourne.', 'To Develop the geographically distributed and collaborative workforce priorities identified in both the ICT Strategic Plan.', 'New contract opportunity for an experienced Investment Manager, Responsible for managing the complexities associated with the digital program delivery', 'Fantastic global firm is now looking for a digital architecture leader to start ASAP. High profile client!!!', ' About\\xa0  Our client is an award winning digital agency that is looking for a DevOps Engineer for an initial 7-month contract with strong', 'We are looking for multiple Cyber Security Architects on either location , Brisbane or Canberra', 'Microsoft AD Specialist | Long Term | NV1 Clearance Required', \"Opportunity to make the Software Asset Management function your own, with this Nth Ryde based organisation that enriches & changes people's lives.\", 'One of our well known clients located in Melbourne is looking for an experienced SAP ABAP/UI5 Developer for a initial 5 contract', 'We are looking for a Business Architect to join a well known company based in brand new Sydney CBD headquarters!', \"Security Practitioner to help this agency embed security in the earliest stages of a solution's design, through to the delivery of critical capability\", \"We are looking for an experienced Business Architect within Enterprise Services to fill a 6 month contract to join their team in Sydney's West\", 'Newly Created Change Manager Role With Leading Australian Brand | SAP CAR Implementation | Daily Rate Contract | Eastern Suburbs | January Start', 'Are you a PM with a background in Data Analytics and BI? An engaging communicator with senior stakeholder management experience?', 'Data Modeller - Big Data Technologies - Data Architect\\n', 'A Technical Writer is required to join an implementation programme ', 'Tech BA - Data Modeller - technical business analyst\\n', '6-month role working with a leading Financial Services business in the CBD. Working closely with the sales team and driving efficiency. ', 'Build and lead a world class, high performing sales team that continues to outperform the market']\n"
     ]
    }
   ],
   "source": [
    "pd.set_option('max_columns',1000)\n",
    "pd.set_option('max_ro',300)\n",
    "p = data.loc[data[\"Classification\"]==\"Information & Communication Technology\"][[\"Requirement\",\"HighestSalary\"]].sort_values(by=[\"HighestSalary\"], ascending=False).drop_duplicates().iloc[0:100][\"Requirement\"].tolist()\n",
    "print(p)"
   ]
  },
  {
   "cell_type": "markdown",
   "metadata": {},
   "source": [
    "## Case Study 2:"
   ]
  },
  {
   "cell_type": "markdown",
   "metadata": {},
   "source": [
    "First, I will select jobs based on basic information like company, location and salary to get a small set of jobs, then I will use NLP and other analysis skills to find jobs meet his ability and requirement. I can also use machine learning to find shortest distance between his situation and target jobs based on labelled data or ublabelled data.\n",
    "What's more, I will add labels as part of descriptions of jobs and needs. For example, a need for programmer can be labelled by programming language: c++, java or python and so on. With labels, it is better and more precise for recommend jobs for people.\n",
    "\n"
   ]
  }
 ],
 "metadata": {
  "kernelspec": {
   "display_name": "Python 3",
   "language": "python",
   "name": "python3"
  },
  "language_info": {
   "codemirror_mode": {
    "name": "ipython",
    "version": 3
   },
   "file_extension": ".py",
   "mimetype": "text/x-python",
   "name": "python",
   "nbconvert_exporter": "python",
   "pygments_lexer": "ipython3",
   "version": "3.8.3"
  }
 },
 "nbformat": 4,
 "nbformat_minor": 4
}
